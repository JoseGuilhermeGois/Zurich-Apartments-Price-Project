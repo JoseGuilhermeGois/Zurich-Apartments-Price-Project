{
 "cells": [
  {
   "cell_type": "code",
   "execution_count": 1,
   "id": "c9d40dd5-5ebf-4c35-8ae7-b7b4db774d82",
   "metadata": {},
   "outputs": [],
   "source": [
    "import pandas as pd"
   ]
  },
  {
   "cell_type": "code",
   "execution_count": 2,
   "id": "e2d530fa-9fcd-45f8-b77c-beabb05a9679",
   "metadata": {},
   "outputs": [],
   "source": [
    "df = pd.read_csv(\"apartments_zurich_feb.csv\")    "
   ]
  },
  {
   "cell_type": "code",
   "execution_count": 3,
   "id": "fb2ea47d-f7f1-4dd5-b7fe-92fe2579316b",
   "metadata": {},
   "outputs": [
    {
     "data": {
      "text/html": [
       "<div>\n",
       "<style scoped>\n",
       "    .dataframe tbody tr th:only-of-type {\n",
       "        vertical-align: middle;\n",
       "    }\n",
       "\n",
       "    .dataframe tbody tr th {\n",
       "        vertical-align: top;\n",
       "    }\n",
       "\n",
       "    .dataframe thead th {\n",
       "        text-align: right;\n",
       "    }\n",
       "</style>\n",
       "<table border=\"1\" class=\"dataframe\">\n",
       "  <thead>\n",
       "    <tr style=\"text-align: right;\">\n",
       "      <th></th>\n",
       "      <th>House_ID</th>\n",
       "      <th>Price</th>\n",
       "      <th>Area</th>\n",
       "      <th>Rooms</th>\n",
       "      <th>Location</th>\n",
       "      <th>More information</th>\n",
       "    </tr>\n",
       "  </thead>\n",
       "  <tbody>\n",
       "    <tr>\n",
       "      <th>0</th>\n",
       "      <td>3002472265</td>\n",
       "      <td>5190.0</td>\n",
       "      <td>102.0</td>\n",
       "      <td>4.5</td>\n",
       "      <td>Spitalgasse 2, 8001 Zurich</td>\n",
       "      <td>https://www.homegate.ch/rent/3002472265</td>\n",
       "    </tr>\n",
       "    <tr>\n",
       "      <th>1</th>\n",
       "      <td>3002552074</td>\n",
       "      <td>5480.0</td>\n",
       "      <td>112.0</td>\n",
       "      <td>2.5</td>\n",
       "      <td>Spitalgasse 2, 8001 Zurich</td>\n",
       "      <td>https://www.homegate.ch/rent/3002552074</td>\n",
       "    </tr>\n",
       "    <tr>\n",
       "      <th>2</th>\n",
       "      <td>3002567931</td>\n",
       "      <td>3910.0</td>\n",
       "      <td>75.0</td>\n",
       "      <td>3.0</td>\n",
       "      <td>Engelstrasse 62, 8004 Zurich</td>\n",
       "      <td>https://www.homegate.ch/rent/3002567931</td>\n",
       "    </tr>\n",
       "    <tr>\n",
       "      <th>3</th>\n",
       "      <td>3002184266</td>\n",
       "      <td>3950.0</td>\n",
       "      <td>70.0</td>\n",
       "      <td>2.5</td>\n",
       "      <td>Ankerstrasse, 8004 Zurich</td>\n",
       "      <td>https://www.homegate.ch/rent/3002184266</td>\n",
       "    </tr>\n",
       "    <tr>\n",
       "      <th>4</th>\n",
       "      <td>3002336810</td>\n",
       "      <td>1450.0</td>\n",
       "      <td>26.0</td>\n",
       "      <td>1.0</td>\n",
       "      <td>Langstrasse 213, 8005 Zurich</td>\n",
       "      <td>https://www.homegate.ch/rent/3002336810</td>\n",
       "    </tr>\n",
       "  </tbody>\n",
       "</table>\n",
       "</div>"
      ],
      "text/plain": [
       "     House_ID   Price   Area  Rooms                      Location  \\\n",
       "0  3002472265  5190.0  102.0    4.5    Spitalgasse 2, 8001 Zurich   \n",
       "1  3002552074  5480.0  112.0    2.5    Spitalgasse 2, 8001 Zurich   \n",
       "2  3002567931  3910.0   75.0    3.0  Engelstrasse 62, 8004 Zurich   \n",
       "3  3002184266  3950.0   70.0    2.5     Ankerstrasse, 8004 Zurich   \n",
       "4  3002336810  1450.0   26.0    1.0  Langstrasse 213, 8005 Zurich   \n",
       "\n",
       "                          More information  \n",
       "0  https://www.homegate.ch/rent/3002472265  \n",
       "1  https://www.homegate.ch/rent/3002552074  \n",
       "2  https://www.homegate.ch/rent/3002567931  \n",
       "3  https://www.homegate.ch/rent/3002184266  \n",
       "4  https://www.homegate.ch/rent/3002336810  "
      ]
     },
     "execution_count": 3,
     "metadata": {},
     "output_type": "execute_result"
    }
   ],
   "source": [
    "df.head()"
   ]
  },
  {
   "cell_type": "code",
   "execution_count": 4,
   "id": "b391a441-2fe3-44aa-9f37-0508657183f8",
   "metadata": {},
   "outputs": [
    {
     "data": {
      "text/plain": [
       "House_ID             0.000000\n",
       "Price                0.674157\n",
       "Area                12.280702\n",
       "Rooms                2.283105\n",
       "Location             0.000000\n",
       "More information     0.000000\n",
       "dtype: float64"
      ]
     },
     "execution_count": 4,
     "metadata": {},
     "output_type": "execute_result"
    }
   ],
   "source": [
    "df.isnull().sum()/df.count()*100"
   ]
  },
  {
   "cell_type": "code",
   "execution_count": 5,
   "id": "1f1324d8-2921-426a-9bbc-ae553ab2f898",
   "metadata": {},
   "outputs": [
    {
     "data": {
      "text/plain": [
       "House_ID              int64\n",
       "Price               float64\n",
       "Area                float64\n",
       "Rooms               float64\n",
       "Location             object\n",
       "More information     object\n",
       "dtype: object"
      ]
     },
     "execution_count": 5,
     "metadata": {},
     "output_type": "execute_result"
    }
   ],
   "source": [
    "df.dtypes"
   ]
  },
  {
   "cell_type": "code",
   "execution_count": 6,
   "id": "7ec58ee8-e8e8-4fd4-905b-a7abbde3a7d2",
   "metadata": {},
   "outputs": [],
   "source": [
    "df.rename(columns={\"More information\": \"Website\"}, inplace=True)"
   ]
  },
  {
   "cell_type": "code",
   "execution_count": 7,
   "id": "68cd40c0-7dc2-44f7-81aa-b10d8660df6d",
   "metadata": {},
   "outputs": [
    {
     "data": {
      "text/plain": [
       "House_ID      int64\n",
       "Price       float64\n",
       "Area        float64\n",
       "Rooms       float64\n",
       "Location     object\n",
       "Website      object\n",
       "dtype: object"
      ]
     },
     "execution_count": 7,
     "metadata": {},
     "output_type": "execute_result"
    }
   ],
   "source": [
    "df.dtypes"
   ]
  },
  {
   "cell_type": "code",
   "execution_count": 8,
   "id": "dfe9bf04-b1d8-4749-a78a-0cf94de8fdd6",
   "metadata": {},
   "outputs": [
    {
     "data": {
      "text/plain": [
       "Universitatsstrasse 80/82, 8006 Zurich    9\n",
       "Friesstrasse 12, 8050 Zurich              7\n",
       "Gujerstrasse 1, 8050 Zurich               5\n",
       "Rosengartenstrasse 55, 8037 Zurich        5\n",
       "Zelgstrasse 19, 8003 Zurich               5\n",
       "                                         ..\n",
       "Gotzstrasse 16, 8006 Zurich               1\n",
       "Rigistrasse 28, 8006 Zurich               1\n",
       "Schaffhauserstrasse, 8006 Zurich          1\n",
       "Schaffhauserstrasse 5, 8006 Zurich        1\n",
       "Wiedingstrasse 30, 8055 Zurich            1\n",
       "Name: Location, Length: 345, dtype: int64"
      ]
     },
     "execution_count": 8,
     "metadata": {},
     "output_type": "execute_result"
    }
   ],
   "source": [
    "df[\"Location\"].value_counts()"
   ]
  },
  {
   "cell_type": "code",
   "execution_count": 9,
   "id": "aa6615d9-1efa-4f08-8c80-cf2b2b5c8bbc",
   "metadata": {},
   "outputs": [
    {
     "data": {
      "text/plain": [
       "2.5    99\n",
       "3.5    80\n",
       "1.0    63\n",
       "1.5    45\n",
       "2.0    41\n",
       "3.0    39\n",
       "4.5    36\n",
       "4.0    17\n",
       "5.0     7\n",
       "5.5     7\n",
       "6.5     3\n",
       "7.0     1\n",
       "Name: Rooms, dtype: int64"
      ]
     },
     "execution_count": 9,
     "metadata": {},
     "output_type": "execute_result"
    }
   ],
   "source": [
    "df[\"Rooms\"].value_counts()"
   ]
  },
  {
   "cell_type": "code",
   "execution_count": 10,
   "id": "02a10d7e-fe5f-4182-b274-8311e9a8904d",
   "metadata": {},
   "outputs": [
    {
     "data": {
      "text/plain": [
       "3036.952808988764"
      ]
     },
     "execution_count": 10,
     "metadata": {},
     "output_type": "execute_result"
    }
   ],
   "source": [
    "df[\"Price\"].mean()"
   ]
  }
 ],
 "metadata": {
  "kernelspec": {
   "display_name": "Python 3 (ipykernel)",
   "language": "python",
   "name": "python3"
  },
  "language_info": {
   "codemirror_mode": {
    "name": "ipython",
    "version": 3
   },
   "file_extension": ".py",
   "mimetype": "text/x-python",
   "name": "python",
   "nbconvert_exporter": "python",
   "pygments_lexer": "ipython3",
   "version": "3.9.13"
  }
 },
 "nbformat": 4,
 "nbformat_minor": 5
}
